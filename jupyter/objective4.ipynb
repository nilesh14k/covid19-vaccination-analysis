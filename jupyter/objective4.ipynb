{
 "cells": [
  {
   "cell_type": "markdown",
   "id": "7b82f5ee",
   "metadata": {},
   "source": [
    "# OBJECTIVE: 4\n",
    "## Our 4th objective is to do a analysis on, how the whole world adapted the vaccination."
   ]
  },
  {
   "cell_type": "markdown",
   "id": "6ff7195f",
   "metadata": {},
   "source": [
    "### Importing Liberaries\n",
    "For this objective, we required a liberary for fetching '.csv' data and potting grpahs."
   ]
  },
  {
   "cell_type": "code",
   "execution_count": null,
   "id": "c6970052",
   "metadata": {},
   "outputs": [],
   "source": [
    "# importing pandas liberary\n",
    "import pandas as pd\n",
    "\n",
    "# importing MATPLOTLIB liberary, for plotting graphs\n",
    "import matplotlib.pyplot as plt\n",
    "# import seaborn as sns"
   ]
  },
  {
   "cell_type": "code",
   "execution_count": null,
   "id": "f896666b",
   "metadata": {},
   "outputs": [],
   "source": [
    "# loading data from---> vaccinartion_data.csv\n",
    "df = pd.read_csv(\"D:\\\\_Projects\\\\UOL\\\\pds\\\\pds_coursework_3\\\\data\\\\vaccination_data.csv\")"
   ]
  },
  {
   "cell_type": "code",
   "execution_count": 4,
   "id": "9d377585",
   "metadata": {},
   "outputs": [],
   "source": [
    "# changing FIRST_VACCINE_DATE's data type from, object---->datetime64\n",
    "df['FIRST_VACCINE_DATE']=pd.to_datetime(df['FIRST_VACCINE_DATE'])"
   ]
  },
  {
   "cell_type": "code",
   "execution_count": 5,
   "id": "f58acd92",
   "metadata": {},
   "outputs": [
    {
     "data": {
      "text/html": [
       "<div>\n",
       "<style scoped>\n",
       "    .dataframe tbody tr th:only-of-type {\n",
       "        vertical-align: middle;\n",
       "    }\n",
       "\n",
       "    .dataframe tbody tr th {\n",
       "        vertical-align: top;\n",
       "    }\n",
       "\n",
       "    .dataframe thead th {\n",
       "        text-align: right;\n",
       "    }\n",
       "</style>\n",
       "<table border=\"1\" class=\"dataframe\">\n",
       "  <thead>\n",
       "    <tr style=\"text-align: right;\">\n",
       "      <th></th>\n",
       "      <th>FIRST_VACCINE_DATE</th>\n",
       "      <th>COUNTRY</th>\n",
       "    </tr>\n",
       "  </thead>\n",
       "  <tbody>\n",
       "    <tr>\n",
       "      <th>0</th>\n",
       "      <td>2021-02-22</td>\n",
       "      <td>Afghanistan</td>\n",
       "    </tr>\n",
       "    <tr>\n",
       "      <th>1</th>\n",
       "      <td>2021-01-13</td>\n",
       "      <td>Albania</td>\n",
       "    </tr>\n",
       "    <tr>\n",
       "      <th>2</th>\n",
       "      <td>2021-01-30</td>\n",
       "      <td>Algeria</td>\n",
       "    </tr>\n",
       "    <tr>\n",
       "      <th>3</th>\n",
       "      <td>2020-12-21</td>\n",
       "      <td>American Samoa</td>\n",
       "    </tr>\n",
       "    <tr>\n",
       "      <th>4</th>\n",
       "      <td>2021-01-20</td>\n",
       "      <td>Andorra</td>\n",
       "    </tr>\n",
       "    <tr>\n",
       "      <th>...</th>\n",
       "      <td>...</td>\n",
       "      <td>...</td>\n",
       "    </tr>\n",
       "    <tr>\n",
       "      <th>224</th>\n",
       "      <td>2021-03-08</td>\n",
       "      <td>Viet Nam</td>\n",
       "    </tr>\n",
       "    <tr>\n",
       "      <th>225</th>\n",
       "      <td>2021-03-19</td>\n",
       "      <td>Wallis and Futuna</td>\n",
       "    </tr>\n",
       "    <tr>\n",
       "      <th>226</th>\n",
       "      <td>2021-04-20</td>\n",
       "      <td>Yemen</td>\n",
       "    </tr>\n",
       "    <tr>\n",
       "      <th>227</th>\n",
       "      <td>2021-04-14</td>\n",
       "      <td>Zambia</td>\n",
       "    </tr>\n",
       "    <tr>\n",
       "      <th>228</th>\n",
       "      <td>2021-02-18</td>\n",
       "      <td>Zimbabwe</td>\n",
       "    </tr>\n",
       "  </tbody>\n",
       "</table>\n",
       "<p>229 rows × 2 columns</p>\n",
       "</div>"
      ],
      "text/plain": [
       "    FIRST_VACCINE_DATE            COUNTRY\n",
       "0           2021-02-22        Afghanistan\n",
       "1           2021-01-13            Albania\n",
       "2           2021-01-30            Algeria\n",
       "3           2020-12-21     American Samoa\n",
       "4           2021-01-20            Andorra\n",
       "..                 ...                ...\n",
       "224         2021-03-08           Viet Nam\n",
       "225         2021-03-19  Wallis and Futuna\n",
       "226         2021-04-20              Yemen\n",
       "227         2021-04-14             Zambia\n",
       "228         2021-02-18           Zimbabwe\n",
       "\n",
       "[229 rows x 2 columns]"
      ]
     },
     "execution_count": 5,
     "metadata": {},
     "output_type": "execute_result"
    }
   ],
   "source": [
    "# getting separate dataframe for {FIRST_VACCINE_DATE & COUNTRY}\n",
    "df1=df[['FIRST_VACCINE_DATE','COUNTRY']]"
   ]
  },
  {
   "cell_type": "code",
   "execution_count": 6,
   "id": "47235f1c",
   "metadata": {},
   "outputs": [],
   "source": [
    "# changing date format from YYYY-MM-DD ---> YYYY-MM and calculating the number of countries started vacciantion in that particular month\n",
    "df2 = df1['FIRST_VACCINE_DATE'].dt.to_period('M').value_counts()"
   ]
  },
  {
   "cell_type": "code",
   "execution_count": 7,
   "id": "8abea4f6",
   "metadata": {},
   "outputs": [],
   "source": [
    "# Making dataframe, including date as YYYY-MM and number of countries\n",
    "df4=pd.DataFrame({'date':df2.index, 'count':df2.values})"
   ]
  },
  {
   "cell_type": "code",
   "execution_count": 8,
   "id": "109b288c",
   "metadata": {},
   "outputs": [
    {
     "name": "stderr",
     "output_type": "stream",
     "text": [
      "D:\\Users\\Navneet Kumar\\anaconda3\\lib\\site-packages\\scipy\\__init__.py:146: UserWarning: A NumPy version >=1.16.5 and <1.23.0 is required for this version of SciPy (detected version 1.23.4\n",
      "  warnings.warn(f\"A NumPy version >={np_minversion} and <{np_maxversion}\"\n"
     ]
    },
    {
     "data": {
      "image/png": "[encoded data removed]",
      "text/plain": [
       "<Figure size 640x480 with 2 Axes>"
      ]
     },
     "metadata": {},
     "output_type": "display_data"
    }
   ],
   "source": [
    "# # importing SEABORN liberary, for plotting graphs\n",
    "import seaborn as sns\n",
    "\n",
    "# # sorting dataframe by date\n",
    "df4.sort_values(by= 'date', ascending=True, inplace=True)\n",
    "\n",
    "# intialising subplot\n",
    "fig, ax2 = plt.subplots()\n",
    "plt.xticks(rotation=70)\n",
    "ax1 = ax2.twinx()\n",
    "\n",
    "# plotting barplot\n",
    "ax1=sns.barplot(x='date',y='count',data=df4.reset_index())\n",
    "\n",
    "# plotting pointplot <--SUBPLOT\n",
    "sns.pointplot(x='date', y='count', data=df4,color='grey', scale=.3,linestyles='--')\n",
    "\n",
    "# couting total number of countries\n",
    "total = df4['count'].sum()\n",
    "\n",
    "# calculating and plotting percentage on bar-graph\n",
    "for p in ax1.patches:\n",
    "    percentage = '{:.1f}%'.format(100 * p.get_height()/total)\n",
    "    x = p.get_x() + p.get_width()\n",
    "    y = p.get_height()\n",
    "    ax1.annotate(percentage, (x-.4, y+.8),ha='center',fontsize=8.9)\n",
    "\n",
    "# labeling x and y axis\n",
    "ax1.set(xlabel='TIME', ylabel='NUMBER of COUNTRIES')\n",
    "# formatting layout of graph\n",
    "plt.tight_layout()"
   ]
  },
  {
   "cell_type": "code",
   "execution_count": null,
   "id": "3a0d6a76",
   "metadata": {},
   "outputs": [],
   "source": []
  },
  {
   "cell_type": "code",
   "execution_count": 9,
   "id": "edfa4406",
   "metadata": {},
   "outputs": [],
   "source": [
    "# sorting dataframe by date\n",
    "# df4.sort_values(by= 'date', ascending=True, inplace=True)"
   ]
  },
  {
   "cell_type": "code",
   "execution_count": null,
   "id": "b0570e1c",
   "metadata": {},
   "outputs": [],
   "source": []
  }
 ],
 "metadata": {
  "kernelspec": {
   "display_name": "Python 3 (ipykernel)",
   "language": "python",
   "name": "python3"
  },
  "language_info": {
   "codemirror_mode": {
    "name": "ipython",
    "version": 3
   },
   "file_extension": ".py",
   "mimetype": "text/x-python",
   "name": "python",
   "nbconvert_exporter": "python",
   "pygments_lexer": "ipython3",
   "version": "3.9.12"
  }
 },
 "nbformat": 4,
 "nbformat_minor": 5
}
